{
 "cells": [
  {
   "cell_type": "markdown",
   "metadata": {},
   "source": [
    "# This is Jeopardy!"
   ]
  },
  {
   "cell_type": "markdown",
   "metadata": {},
   "source": [
    "#### Overview"
   ]
  },
  {
   "cell_type": "markdown",
   "metadata": {},
   "source": [
    "This project is slightly different than others you have encountered thus far. Instead of a step-by-step tutorial, this project contains a series of open-ended requirements which describe the project you'll be building. There are many possible ways to correctly fulfill all of these requirements, and you should expect to use the internet, Codecademy, and/or other resources when you encounter a problem that you cannot easily solve."
   ]
  },
  {
   "cell_type": "markdown",
   "metadata": {},
   "source": [
    "#### Project Goals"
   ]
  },
  {
   "cell_type": "markdown",
   "metadata": {},
   "source": [
    "You will work to write several functions that investigate a dataset of _Jeopardy!_ questions and answers. Filter the dataset for topics that you're interested in, compute the average difficulty of those questions, and train to become the next Jeopardy champion!"
   ]
  },
  {
   "cell_type": "markdown",
   "metadata": {},
   "source": [
    "## Prerequisites"
   ]
  },
  {
   "cell_type": "markdown",
   "metadata": {},
   "source": [
    "In order to complete this project, you should have completed the Pandas lessons in the <a href=\"https://www.codecademy.com/learn/paths/analyze-data-with-python\">Analyze Data with Python Skill Path</a>. You can also find those lessons in the <a href=\"https://www.codecademy.com/learn/data-processing-pandas\">Data Analysis with Pandas course</a> or the <a href=\"https://www.codecademy.com/learn/paths/data-science/\">Data Scientist Career Path</a>.\n",
    "\n",
    "Finally, the <a href=\"https://www.codecademy.com/learn/practical-data-cleaning\">Practical Data Cleaning</a> course may also be helpful."
   ]
  },
  {
   "cell_type": "markdown",
   "metadata": {},
   "source": [
    "## Project Requirements"
   ]
  },
  {
   "cell_type": "markdown",
   "metadata": {},
   "source": [
    "1. We've provided a csv file containing data about the game show _Jeopardy!_ in a file named `jeopardy.csv`. Load the data into a DataFrame and investigate its contents. Try to print out specific columns.\n",
    "\n",
    "   Note that in order to make this project as \"real-world\" as possible, we haven't modified the data at all - we're giving it to you exactly how we found it. As a result, this data isn't as \"clean\" as the datasets you normally find on Codecademy. More specifically, there's something odd about the column names. After you figure out the problem with the column names, you may want to rename them to make your life easier for the rest of the project.\n",
    "   \n",
    "   In order to display the full contents of a column, we've added this line of code for you:\n",
    "   \n",
    "   ```py\n",
    "   pd.set_option('display.max_colwidth', None)\n",
    "   ```"
   ]
  },
  {
   "cell_type": "code",
   "execution_count": 86,
   "metadata": {},
   "outputs": [
    {
     "name": "stdout",
     "output_type": "stream",
     "text": [
      "Index(['Show Number', 'Air Date', 'Round', 'Category', 'Value', 'Question',\n",
      "       'Answer'],\n",
      "      dtype='object')\n",
      "   Show Number    Air Date      Round                         Category Value  \\\n",
      "0         4680  2004-12-31  Jeopardy!                          HISTORY  $200   \n",
      "1         4680  2004-12-31  Jeopardy!  ESPN's TOP 10 ALL-TIME ATHLETES  $200   \n",
      "2         4680  2004-12-31  Jeopardy!      EVERYBODY TALKS ABOUT IT...  $200   \n",
      "3         4680  2004-12-31  Jeopardy!                 THE COMPANY LINE  $200   \n",
      "4         4680  2004-12-31  Jeopardy!              EPITAPHS & TRIBUTES  $200   \n",
      "\n",
      "                                                                                                      Question  \\\n",
      "0             For the last 8 years of his life, Galileo was under house arrest for espousing this man's theory   \n",
      "1  No. 2: 1912 Olympian; football star at Carlisle Indian School; 6 MLB seasons with the Reds, Giants & Braves   \n",
      "2                     The city of Yuma in this state has a record average of 4,055 hours of sunshine each year   \n",
      "3                         In 1963, live on \"The Art Linkletter Show\", this company served its billionth burger   \n",
      "4     Signer of the Dec. of Indep., framer of the Constitution of Mass., second President of the United States   \n",
      "\n",
      "       Answer  \n",
      "0  Copernicus  \n",
      "1  Jim Thorpe  \n",
      "2     Arizona  \n",
      "3  McDonald's  \n",
      "4  John Adams  \n"
     ]
    }
   ],
   "source": [
    "import pandas as pd\n",
    "pd.set_option('display.max_colwidth', None)\n",
    "jeopardy = pd.read_csv('jeopardy.csv')\n",
    "jeopardy = jeopardy.rename(columns = {\" Air Date\": \"Air Date\", \" Round\" : \"Round\", \" Category\": \"Category\", \" Value\": \"Value\", \" Question\":\"Question\", \" Answer\": \"Answer\"})\n",
    "print(jeopardy.columns)\n",
    "print(jeopardy.head(5))"
   ]
  },
  {
   "cell_type": "markdown",
   "metadata": {},
   "source": [
    "2. Write a function that filters the dataset for questions that contains all of the words in a list of words. For example, when the list `[\"King\", \"England\"]` was passed to our function, the function returned a DataFrame of 49 rows. Every row had the strings `\"King\"` and `\"England\"` somewhere in its `\" Question\"`.\n",
    "\n",
    "   Test your function by printing out the column containing the question of each row of the dataset."
   ]
  },
  {
   "cell_type": "code",
   "execution_count": 87,
   "metadata": {},
   "outputs": [
    {
     "name": "stdout",
     "output_type": "stream",
     "text": [
      "        Show Number    Air Date             Round  \\\n",
      "4953           3003  1997-09-24  Double Jeopardy!   \n",
      "14912          2832  1996-12-17         Jeopardy!   \n",
      "21511          4650  2004-11-19         Jeopardy!   \n",
      "23810          4862  2005-11-01         Jeopardy!   \n",
      "27555          1799  1992-05-28  Double Jeopardy!   \n",
      "33294          5589  2008-12-18         Jeopardy!   \n",
      "41148          5925  2010-05-21  Double Jeopardy!   \n",
      "41357          2751  1996-07-15         Jeopardy!   \n",
      "43122          3937  2001-10-16  Double Jeopardy!   \n",
      "47814          4365  2003-07-18  Double Jeopardy!   \n",
      "49994          5499  2008-07-03         Jeopardy!   \n",
      "51115          3574  2000-03-02         Jeopardy!   \n",
      "51565          4264  2003-02-27  Double Jeopardy!   \n",
      "56600          3533  2000-01-05  Double Jeopardy!   \n",
      "57516          4299  2003-04-17  Double Jeopardy!   \n",
      "58949          6250  2011-11-18  Double Jeopardy!   \n",
      "71808          5270  2007-07-06         Jeopardy!   \n",
      "74235          2757  1996-09-03         Jeopardy!   \n",
      "77195          3656  2000-06-26         Jeopardy!   \n",
      "79457          4230  2003-01-10  Double Jeopardy!   \n",
      "80113          5827  2010-01-05         Jeopardy!   \n",
      "84639          1558  1991-05-15         Jeopardy!   \n",
      "86412          1837  1992-09-08  Double Jeopardy!   \n",
      "89710          5390  2008-02-01  Double Jeopardy!   \n",
      "111926         1331  1990-05-21         Jeopardy!   \n",
      "118809         1905  1992-12-11         Jeopardy!   \n",
      "123299         4656  2004-11-29         Jeopardy!   \n",
      "123671         5718  2009-06-17         Jeopardy!   \n",
      "125822         4042  2002-03-12  Double Jeopardy!   \n",
      "127484         1325  1990-05-11  Double Jeopardy!   \n",
      "127758         6021  2010-11-15         Jeopardy!   \n",
      "129106         4906  2006-01-02  Double Jeopardy!   \n",
      "130208         5222  2007-05-01         Jeopardy!   \n",
      "137818         3368  1999-04-07         Jeopardy!   \n",
      "143434         1882  1992-11-10  Double Jeopardy!   \n",
      "150880         4790  2005-06-03  Double Jeopardy!   \n",
      "165110         4255  2003-02-14         Jeopardy!   \n",
      "165197         6272  2011-12-20  Double Jeopardy!   \n",
      "170007         5455  2008-05-02  Double Jeopardy!   \n",
      "174055         2143  1993-12-22  Double Jeopardy!   \n",
      "175259         3055  1997-12-05  Double Jeopardy!   \n",
      "183462         3099  1998-02-05   Final Jeopardy!   \n",
      "186239         5339  2007-11-22  Double Jeopardy!   \n",
      "187651         5264  2007-06-28         Jeopardy!   \n",
      "191579         5453  2008-04-30         Jeopardy!   \n",
      "192265         6292  2012-01-17  Double Jeopardy!   \n",
      "192966         6175  2011-06-17  Double Jeopardy!   \n",
      "194516         6114  2011-03-24  Double Jeopardy!   \n",
      "200369         2937  1997-05-13         Jeopardy!   \n",
      "\n",
      "                            Category   Value  \\\n",
      "4953                    \"PH\"UN WORDS    $200   \n",
      "14912                  WORLD HISTORY    $100   \n",
      "21511                     THE \"O.C.\"   $1000   \n",
      "23810                  NAME THE YEAR    $400   \n",
      "27555               HISTORIC IN-LAWS    $600   \n",
      "33294            THE BAYEUX TAPESTRY    $600   \n",
      "41148                       TREATIES   $1600   \n",
      "41357                 HISTORIC NAMES    $400   \n",
      "43122                     OH, HENRY!    $400   \n",
      "47814                        POTIONS   $2000   \n",
      "49994                    REIGN DROPS   $1000   \n",
      "51115             ALL THINGS BRITISH    $200   \n",
      "51565             MUSIC APPRECIATION    $800   \n",
      "56600                 FRENCH HISTORY    $600   \n",
      "57516               THE \"UN\"CATEGORY   $2000   \n",
      "58949            ASSUME THE POSITION   $2000   \n",
      "71808        WHERE THERE'S A WILLIAM   $1000   \n",
      "74235                  WORLD HISTORY    $200   \n",
      "77195                        JUNE 26    $400   \n",
      "79457                     CONQUERORS    $800   \n",
      "80113                      \"M\" & \"M\"   $1000   \n",
      "84639              FILMS OF THE '90S    $200   \n",
      "86412                        ROYALTY    $400   \n",
      "89710                 \"CAN\"NED WORDS   $1600   \n",
      "111926                FILE UNDER \"M\"  $1,000   \n",
      "118809                KINGS & QUEENS    $300   \n",
      "123299                        CHAIRS    $400   \n",
      "123671          A YEAR ENDING IN '09   $1000   \n",
      "125822              PAINT IT \"BLACK\"  $5,000   \n",
      "127484               MEDIEVAL PEOPLE    $600   \n",
      "127758                   STATE FACTS    $600   \n",
      "129106            HISTORIC NICKNAMES   $2000   \n",
      "130208                       ROYALTY    $600   \n",
      "137818             PEOPLE IN HISTORY    $400   \n",
      "143434                           ART    $800   \n",
      "150880  20th CENTURY BRITISH HISTORY   $1200   \n",
      "165110                     HIGH COUP   $1000   \n",
      "165197           TOUCHED BY AN ANGEL   $2000   \n",
      "170007               THE SWEET 1600s   $1600   \n",
      "174055               HISTORIC PEOPLE    $200   \n",
      "175259                     THE 1930s    $400   \n",
      "183462                       ROYALTY    None   \n",
      "186239              EUROPEAN HISTORY    $800   \n",
      "187651   CAPITALS OF THE WEST INDIES    $600   \n",
      "191579                       BATTLES    $800   \n",
      "192265    NORWAY'S CULTURE & HISTORY   $1600   \n",
      "192966                 HERO SANDWICH    $800   \n",
      "194516           THE YUCKS STOP HERE   $1600   \n",
      "200369               BRITISH HISTORY    $200   \n",
      "\n",
      "                                                                                                                                                                                                                                                                                                                                                        Question  \\\n",
      "4953                                                                                                                                                                                                                                                                    Both England's King George V & FDR put their stamp of approval on this \"King of Hobbies\"   \n",
      "14912                                                                                                                                                                                                                                                          This country's King Louis IV was nicknamed \"Louis From Overseas\" because he was raised in England   \n",
      "21511                                                                                                                                                                                                                                                                               this man and his son ruled England following the execution of King Charles I   \n",
      "23810                                                                                                                                                                                                                                                       William the Conqueror was crowned King of England in Westminster Abbey on Christmas Day in this year   \n",
      "27555                                                                                                                                                                                                                                                                         This member of the Medici family was the mother-in-law of England's King Charles I   \n",
      "33294               (Sarah of the Clue Crew delivers the clue from the Bayeux Cathedral in France.)  Despite taking an oath to assure another succession, Harold is crowned King of England; the tapestry indicated it was <a href=\"http://www.j-archive.com/media/2008-12-18_J_08.jpg\" target=\"_blank\">Stigant</a>, this archbishop, who performed the ceremony   \n",
      "41148                                                                                                                                                                                                                                  This French king recognized William of Orange as William II, King of England, under the terms of 1697's Treaty of Ryswick   \n",
      "41357                                                                                                                                                                                                                                                   England's King Henry VIII had 3 wives named Catherine:  Catherine Howard, Catherine of Aragon & this one   \n",
      "43122                                                                                                                                                                                                                                                                                                                     The father of England's King Edward VI   \n",
      "47814                                                                                                                                                                                                                                                                                                 This steak sauce was created for King George IV of England   \n",
      "49994                                                                                                                                                                                                                                                                     Elizabeth I's half-brother, he reigned before her as King of England from 1547 to 1553   \n",
      "51115                                                                                                                (<a href=\"http://www.j-archive.com/media/2000-03-02_J_22.jpg\" target=\"_blank\">Alex Trebek reads from England.</a>)  In 1214 barons fed up with King John met at the abbey whose ruins we see here; the result a year later was this charter   \n",
      "51565                                                                                                                                                                                                                                               He wrote several anthems, including \"The King Shall Rejoice\", for the coronation of England's King George II   \n",
      "56600                                                                                                                                                                                                                                                            This city known for its 24-hour auto race was the birthplace of England's King Henry II in 1133   \n",
      "57516                                                                                                                                                                                                                                                                                       Famous (& rather insulting) adjective for England's King Ethelred II   \n",
      "58949                                                                                                                                                                                                                                                                      He became King of England in 1399 after forcing his cousin Richard II from the throne   \n",
      "71808                                                                                                                                                                                                                                                                                    Number of the William who was England's \"Sailor King\" from 1830 to 1837   \n",
      "74235                                                                                                                                                                                                                                                                   Barons & churchmen drew up this 1215 document to reduce the power of England's King John   \n",
      "77195                                                                                                                                                                                                                                                        He became King of England on June 26, 1483; just over 2 years later he was killed at Bosworth Field   \n",
      "79457                                                                                                                                                                                                                                            On Christmas Day 1066, he was crowned King of England, 72 days after defeating Harold at the Battle of Hastings   \n",
      "80113                                                                                                                                                                                                                                                                                              England's King Charles II was known by this \"jovial\" nickname   \n",
      "84639                                                                                                                                                                                                                                                                          He went from second banana on \"Roseanne\" to top banana of England in \"King Ralph\"   \n",
      "86412                                                                                                                                                                                                                                                                       This country's King Olaf V was born in England & was the grandson of King Edward VII   \n",
      "89710                                                                                                                                                                                                                                                          This 11th Century King of England also ruled Denmark & Norway during the latter part of his reign   \n",
      "111926                                                                                                                                                                                                                                                 It begins \"John, by the grace of God, King of England, Lord of Ireland, Duke of Normandy & Aquitaine....\"   \n",
      "118809                                                                                                                                                                                                                                                                                          In French this King of England is called Guillaume le Conquerant   \n",
      "123299                                                                                                                                                                                                                                                                   If you want to be crowned King of England, this rock has to be in your coronation chair   \n",
      "123671                                                                                                                                                                                                                                                                                                                            King Henry VII of England dies   \n",
      "125822                                                                                                                                                                                                                                                                                            Famous nickname of the eldest son of England's King Edward III   \n",
      "127484                                                                                                                                                                                                                                                              Ethelred the Unready managed to lose most of England to King Sweyn Forkbeard of this country   \n",
      "127758                                                                                                                                                                                                                                                                                This state was named for the King of England who reigned from 1727 to 1760   \n",
      "129106                                                                                                                                                                                                                                                            King Edward I of England, who fought William Wallace, had this nickname relating to his height   \n",
      "130208                                                                                                                                                                                                                                                                                  This \"Sun King\" sniffed, \"England is a little garden full of sour weeds\"   \n",
      "137818                                                                                                                                                                                                                                                                                      The last King William to rule England had this number after his name   \n",
      "143434                                                                                                                                                                                                                                                              This Flemish artist painted a unique triple portrait of England's King Charles I around 1637   \n",
      "150880                                                                                                                                                                                                                                                                                     During Stanley Baldwin's term as P.M., this King of England abdicated   \n",
      "165110                                                                                                                                                                                                                                                      The 1st commoner to rule England, he became lord protector following the overthrow of King Charles I   \n",
      "165197                                                                                                                                                                                                                                                     The \"Angel of Hadley\" is said to have saved a New England town during the war with this Indian \"King\"   \n",
      "170007                                                                                                                                                                                                                                                              In the 1697 Treaty of Rijswijk, the French recognized this Dutch-born man as King of England   \n",
      "174055                                                                                                                                                                                                                                                                                          This conqueror was crowned King of England on Christmas Day 1066   \n",
      "175259                                                                                                                                                                                                                                                                                                        His short reign as King of England fell in in 1936   \n",
      "183462                                                                                                                                                                                                                                                          A capital in the West Indies is named for this family name of William of Orange, King of England   \n",
      "186239                                                                                                                                                                                                                                         He was King of England from 1189 to 1199 but spent only 6 months there; the rest of the time, he was off fighting   \n",
      "187651                                                                                                                                                                                                                                                                   This Bahamian capital took its name from the family name of King William III of England   \n",
      "191579                                                                                                                                                                                                                                                                           England's King Harold II lost the all-important Battle of Hastings in this year   \n",
      "192265  (<a href=\"http://www.j-archive.com/media/2012-01-17_DJ_25.jpg\" target=\"_blank\">Sarah of the Clue Crew stands in front of the Royal Palace in Oslo, Norway.</a>) King Harald V lives here, in Norway's Royal Palace. He and his second cousin, England's Queen Elizabeth, are both great-grandchildren of this British king, who ruled from 1901 to 1910.   \n",
      "192966                                                                                                                                                                                                                                                                                                                        England's King _____ _____ R. Luce   \n",
      "194516                                                                                                                                                                                                                                                          The \"Monty Python\" member who played King Arthur, he ended his grail quest in Maidstone, England   \n",
      "200369                                                                                                                                                                                                                                           8th C. King Offa built a 170-mile north-south dike that still partly marks the border of England & this country   \n",
      "\n",
      "                              Answer  \n",
      "4953    Philately (stamp collecting)  \n",
      "14912                         France  \n",
      "21511                Oliver Cromwell  \n",
      "23810                           1066  \n",
      "27555                Marie de Medici  \n",
      "33294   the Archbishop of Canterbury  \n",
      "41148                      Louis XIV  \n",
      "41357                 Catherine Parr  \n",
      "43122                     Henry VIII  \n",
      "47814                             A1  \n",
      "49994                      Edward VI  \n",
      "51115                    Magna Carta  \n",
      "51565         George Frideric Handel  \n",
      "56600                        Le Mans  \n",
      "57516                  \"the Unready\"  \n",
      "58949                       Henry IV  \n",
      "71808                             IV  \n",
      "74235                The Magna Carta  \n",
      "77195                    Richard III  \n",
      "79457          William the Conqueror  \n",
      "80113            \"the Merry Monarch\"  \n",
      "84639                   John Goodman  \n",
      "86412                         Norway  \n",
      "89710                         Canute  \n",
      "111926                   Magna Carta  \n",
      "118809         William the Conqueror  \n",
      "123299            the Stone of Scone  \n",
      "123671                          1509  \n",
      "125822              the Black Prince  \n",
      "127484                       Denmark  \n",
      "127758                       Georgia  \n",
      "129106                  \"Longshanks\"  \n",
      "130208                     Louis XIV  \n",
      "137818                            IV  \n",
      "143434              Anthony van Dyck  \n",
      "150880              King Edward VIII  \n",
      "165110               Oliver Cromwell  \n",
      "165197                   King Philip  \n",
      "170007             William of Orange  \n",
      "174055                       William  \n",
      "175259              King Edward VIII  \n",
      "183462                        Nassau  \n",
      "186239         Richard the Lionheart  \n",
      "187651                        Nassau  \n",
      "191579                          1066  \n",
      "192265                    Edward VII  \n",
      "192966                    John Henry  \n",
      "194516                Graham Chapman  \n",
      "200369                         Wales  \n"
     ]
    }
   ],
   "source": [
    "def filter_data(data, word_list):\n",
    "    return data.loc[data[\"Question\"].apply(lambda x: all(word in x for word in word_list))]\n",
    "\n",
    "filtered_data = filter_data(jeopardy, [\"King\", \"England\"])\n",
    "print(filtered_data)"
   ]
  },
  {
   "cell_type": "markdown",
   "metadata": {},
   "source": [
    "3. Test your original function with a few different sets of words to try to find some ways your function breaks. Edit your function so it is more robust.\n",
    "\n",
    "   For example, think about capitalization. We probably want to find questions that contain the word `\"King\"` or `\"king\"`.\n",
    "   \n",
    "   You may also want to check to make sure you don't find rows that contain substrings of your given words. For example, our function found a question that didn't contain the word `\"king\"`, however it did contain the word `\"viking\"` &mdash; it found the `\"king\"` inside `\"viking\"`. Note that this also comes with some drawbacks &mdash; you would no longer find questions that contained words like `\"England's\"`."
   ]
  },
  {
   "cell_type": "code",
   "execution_count": 88,
   "metadata": {},
   "outputs": [
    {
     "name": "stdout",
     "output_type": "stream",
     "text": [
      "152\n"
     ]
    }
   ],
   "source": [
    "def filter_data(data, word_list):\n",
    "    return data.loc[data[\"Question\"].apply(lambda x: all(word.lower() in x.lower() for word in word_list))]\n",
    "\n",
    "filtered_data = filter_data(jeopardy, [\"King\", \"England\"])\n",
    "print(len(filtered_data))"
   ]
  },
  {
   "cell_type": "markdown",
   "metadata": {},
   "source": [
    "4. We may want to eventually compute aggregate statistics, like `.mean()` on the `\" Value\"` column. But right now, the values in that column are strings. Convert the`\" Value\"` column to floats. If you'd like to, you can create a new column with float values.\n",
    "\n",
    "   Now that you can filter the dataset of question, use your new column that contains the float values of each question to find the \"difficulty\" of certain topics. For example, what is the average value of questions that contain the word `\"King\"`?\n",
    "   \n",
    "   Make sure to use the dataset that contains the float values as the dataset you use in your filtering function."
   ]
  },
  {
   "cell_type": "code",
   "execution_count": 94,
   "metadata": {},
   "outputs": [
    {
     "name": "stdout",
     "output_type": "stream",
     "text": [
      "34      400.0\n",
      "40     1200.0\n",
      "50     2000.0\n",
      "56      200.0\n",
      "72      600.0\n",
      "113    2000.0\n",
      "177     100.0\n",
      "224     800.0\n",
      "241     200.0\n",
      "321    1000.0\n",
      "Name: Float_Value, dtype: float64\n",
      "785.668910564638\n"
     ]
    }
   ],
   "source": [
    "def to_float(word):\n",
    "    num_list = [str(x) for x in range(0,10)]\n",
    "    num = \"\"\n",
    "    value = str(word)\n",
    "    for letter in value:\n",
    "        if letter in num_list:\n",
    "            num += letter\n",
    "        \n",
    "    if num == \"\":\n",
    "        num = \"NaN\"\n",
    "    return float(num)\n",
    "    \n",
    "jeopardy[\"Float_Value\"] = jeopardy[\"Value\"].apply(lambda x: to_float(x))\n",
    "filtered = filter_data(jeopardy, [\"King\"])\n",
    "print(filtered[\"Float_Value\"].head(10))\n",
    "print(filtered[\"Float_Value\"].mean())"
   ]
  },
  {
   "cell_type": "markdown",
   "metadata": {},
   "source": [
    "5. Write a function that returns the count of unique answers to all of the questions in a dataset. For example, after filtering the entire dataset to only questions containing the word `\"King\"`, we could then find all of the unique answers to those questions. The answer \"Henry VIII\" appeared 55 times and was the most common answer."
   ]
  },
  {
   "cell_type": "code",
   "execution_count": 100,
   "metadata": {},
   "outputs": [
    {
     "name": "stdout",
     "output_type": "stream",
     "text": [
      "['oratory' 'Yertle' 'Bartholomew Cubbins' ...\n",
      " 'a pyramid (the pyramids accepted)' '(Martin) Yan' 'work']\n"
     ]
    }
   ],
   "source": [
    "unique_answer = filtered[\"Answer\"].unique()\n",
    "print(unique_answer)"
   ]
  },
  {
   "cell_type": "markdown",
   "metadata": {},
   "source": [
    "6. Explore from here! This is an incredibly rich dataset, and there are so many interesting things to discover. There are a few columns that we haven't even started looking at yet. Here are some ideas on ways to continue working with this data:\n",
    "\n",
    " * Investigate the ways in which questions change over time by filtering by the date. How many questions from the 90s use the word `\"Computer\"` compared to questions from the 2000s?\n",
    " * Is there a connection between the round and the category? Are you more likely to find certain categories, like `\"Literature\"` in Single Jeopardy or Double Jeopardy?\n",
    " * Build a system to quiz yourself. Grab random questions, and use the <a href=\"https://docs.python.org/3/library/functions.html#input\">input</a> function to get a response from the user. Check to see if that response was right or wrong."
   ]
  },
  {
   "cell_type": "code",
   "execution_count": null,
   "metadata": {},
   "outputs": [],
   "source": []
  },
  {
   "cell_type": "markdown",
   "metadata": {},
   "source": [
    "## Solution"
   ]
  },
  {
   "cell_type": "markdown",
   "metadata": {},
   "source": [
    "7. Compare your program to our <a href=\"https://content.codecademy.com/PRO/independent-practice-projects/jeopardy/jeopardy_solution.zip\">sample solution code</a> - remember, that your program might look different from ours (and probably will) and that's okay!"
   ]
  },
  {
   "cell_type": "markdown",
   "metadata": {},
   "source": [
    "8. Great work! Visit <a href=\"https://discuss.codecademy.com/t/this-is-jeopardy-challenge-project-python-pandas/462365\">our forums</a> to compare your project to our sample solution code. You can also learn how to host your own solution on GitHub so you can share it with other learners! Your solution might look different from ours, and that's okay! There are multiple ways to solve these projects, and you'll learn more by seeing others' code."
   ]
  },
  {
   "cell_type": "code",
   "execution_count": null,
   "metadata": {},
   "outputs": [],
   "source": []
  }
 ],
 "metadata": {
  "kernelspec": {
   "display_name": "Python 3 (ipykernel)",
   "language": "python",
   "name": "python3"
  },
  "language_info": {
   "codemirror_mode": {
    "name": "ipython",
    "version": 3
   },
   "file_extension": ".py",
   "mimetype": "text/x-python",
   "name": "python",
   "nbconvert_exporter": "python",
   "pygments_lexer": "ipython3",
   "version": "3.11.4"
  }
 },
 "nbformat": 4,
 "nbformat_minor": 2
}
